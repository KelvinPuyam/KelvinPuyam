{
 "cells": [
  {
   "cell_type": "code",
   "execution_count": 8,
   "id": "86ced37a",
   "metadata": {},
   "outputs": [
    {
     "name": "stdout",
     "output_type": "stream",
     "text": [
      "9\n",
      "9\n",
      "9\n",
      "9\n",
      "9\n",
      "CGPA percentage is: 85.5 %\n"
     ]
    }
   ],
   "source": [
    "English = int(input())\n",
    "Hindi = int(input())\n",
    "Maths = int(input())  \n",
    "Science = int(input())  \n",
    "SocialStudy = int(input())\n",
    "CGPA = (English+Hindi+Maths+Science+SocialStudy)/(5.0)  \n",
    "CGPApercentage = 9.5 * (CGPA)  \n",
    "print(\"CGPA percentage is:\",CGPApercentage,\"%\");  "
   ]
  },
  {
   "cell_type": "code",
   "execution_count": null,
   "id": "6d2bc4ff",
   "metadata": {},
   "outputs": [],
   "source": []
  }
 ],
 "metadata": {
  "kernelspec": {
   "display_name": "Python 3 (ipykernel)",
   "language": "python",
   "name": "python3"
  },
  "language_info": {
   "codemirror_mode": {
    "name": "ipython",
    "version": 3
   },
   "file_extension": ".py",
   "mimetype": "text/x-python",
   "name": "python",
   "nbconvert_exporter": "python",
   "pygments_lexer": "ipython3",
   "version": "3.9.7"
  }
 },
 "nbformat": 4,
 "nbformat_minor": 5
}
